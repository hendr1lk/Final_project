{
 "cells": [
  {
   "cell_type": "code",
   "execution_count": 8,
   "metadata": {},
   "outputs": [
    {
     "name": "stdin",
     "output_type": "stream",
     "text": [
      "Enter species name (Genus and specific epithet, seperate by a space):  Oarisma poweshiek\n"
     ]
    },
    {
     "name": "stdout",
     "output_type": "stream",
     "text": [
      "None\n"
     ]
    }
   ],
   "source": [
    "#!/usr/bin/python3\n",
    "\n",
    "# final project code\n",
    "# Lillian Hendrick\n",
    "# 6/19/2020\n",
    "\n",
    "# This script uses iNaturalist's API to search for a specific species, and returns a json file with it's observations\n",
    "\n",
    "# chunk of code - use iNat's api to get taxon id\n",
    "\n",
    "# import modules needed for script\n",
    "import urllib.parse, urllib.request, urllib.error\n",
    "import requests\n",
    "import json\n",
    "import csv\n",
    "\n",
    "# use iNaturalist's api and the search function to look up a taxon\n",
    "main_api = 'https://api.inaturalist.org/v1/search?'\n",
    "taxa = input('Enter species name (Genus and specific epithet, seperate by a space): ')\n",
    "url = main_api + urllib.parse.urlencode(\n",
    "    {'q': taxa})\n",
    "\n",
    "# create json file from iNaturalist api search\n",
    "json_data = requests.get(url).json()\n",
    "\n",
    "# isolate total result amount from json file\n",
    "total_results = json_data['total_results']\n",
    "\n",
    "if total_results != 1:   \n",
    "    print(\"Error, more than one species was found with that name, or that species does not exist. Need to refine species name and try again.\")\n",
    "\n",
    "# if search worked and only one species was found, isolate taxon's id from json file\n",
    "taxon_id = str((json_data['results'][0]['record']['id']))\n",
    "\n",
    "# use isolated taxon id to search api again, this time searching observations\n",
    "base_occurences_url = 'https://api.inaturalist.org/v1/observations?place_id=any&taxon_id='\n",
    "total_occurences_url = base_occurences_url + taxon_id\n",
    "\n",
    "# create json file from iNaturalist api search\n",
    "json_occurences = requests.get(total_occurences_url).json()\n",
    "\n",
    "# write json file\n",
    "with open('occurences.json', 'w') as json_file:\n",
    "    json.dump(json_occurences, json_file)                                                                                                                                                                                                                                                                                                             "
   ]
  },
  {
   "cell_type": "code",
   "execution_count": null,
   "metadata": {},
   "outputs": [],
   "source": []
  },
  {
   "cell_type": "code",
   "execution_count": null,
   "metadata": {},
   "outputs": [],
   "source": []
  }
 ],
 "metadata": {
  "kernelspec": {
   "display_name": "Python 3.8 (basic)",
   "language": "python",
   "name": "python3"
  },
  "language_info": {
   "codemirror_mode": {
    "name": "ipython",
    "version": 3
   },
   "file_extension": ".py",
   "mimetype": "text/x-python",
   "name": "python",
   "nbconvert_exporter": "python",
   "pygments_lexer": "ipython3",
   "version": "3.8.1"
  }
 },
 "nbformat": 4,
 "nbformat_minor": 4
}
