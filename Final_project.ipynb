{
 "cells": [
  {
   "cell_type": "code",
   "execution_count": 1,
   "metadata": {},
   "outputs": [
    {
     "name": "stdin",
     "output_type": "stream",
     "text": [
      "Enter species name (Genus and specific epithet, seperate by a space):  Oarisma poweshiek\n"
     ]
    },
    {
     "name": "stdout",
     "output_type": "stream",
     "text": [
      "Yay! Your search worked. It found 6 observations for Oarisma poweshiek. There is now a json file with all the taxon specifc data on iNaturalist called 'taxon_info.json', and a json file with the occurence records called 'observations.json' in this folder. There is also a csv called 'occurences_file.csv' made from the json file in this folder :).\n"
     ]
    }
   ],
   "source": [
    "#!/usr/bin/python3\n",
    "\n",
    "# final project code\n",
    "# Lillian Hendrick\n",
    "# 6/19/2020\n",
    "\n",
    "# This script uses iNaturalist's API to search for a specific species, and returns a json file with it's observations\n",
    "\n",
    "# chunk of code - use iNat's api to get taxon id\n",
    "\n",
    "# import modules needed for script\n",
    "import urllib.parse, urllib.request, urllib.error\n",
    "import requests\n",
    "import json\n",
    "import csv\n",
    "\n",
    "# use iNaturalist's api and the search function to look up a taxon\n",
    "\n",
    "main_api = 'https://api.inaturalist.org/v1/search?'\n",
    "taxa = input('Enter species name (Genus and specific epithet, seperate by a space): ')\n",
    "url = main_api + urllib.parse.urlencode(\n",
    "    {'q': taxa})\n",
    "\n",
    "# create json file from iNaturalist api search\n",
    "json_data = requests.get(url).json()\n",
    "\n",
    "# isolate total result amount from json file\n",
    "total_results = json_data['total_results']\n",
    "\n",
    "# test to see how many results came up\n",
    "\n",
    "# if more than one results were found, tell user to try again\n",
    "if total_results > 1:\n",
    "    print(str(total_results) +\" species came up. Please be more specific and try again!\")\n",
    "\n",
    "# if no results were found, print an error message    \n",
    "elif total_results == 0:\n",
    "    print(\"Sorry. That species wasn't found. Please try again (try checking your spelling).\")\n",
    "\n",
    "# if search worked and only one species was found, isolate taxon's id from json file\n",
    "elif total_results == 1:\n",
    "  taxon_id = str((json_data['results'][0]['record']['id']))\n",
    "\n",
    "  # use isolated taxon id to search api again, this time searching observations\n",
    "  base_occurences_url = 'https://api.inaturalist.org/v1/observations?place_id=any&taxon_id='\n",
    "  total_occurences_url = base_occurences_url + taxon_id\n",
    "\n",
    "  # create json file from iNaturalist api search\n",
    "  json_occurences = requests.get(total_occurences_url).json()\n",
    "\n",
    "  # write json files\n",
    "  with open('observations.json', 'w') as json_file:\n",
    "    json.dump(json_occurences, json_file) \n",
    "  with open ('taxon_info.json', 'w') as json_file:\n",
    "    json.dump(json_data, json_file) \n",
    "\n",
    "  # Write code for converting json to csv\n",
    "  json_results = json_occurences['results']\n",
    "  occurences_file = open('occurences_file.csv', 'w') \n",
    "  csv_writer = csv.writer(occurences_file) \n",
    "  count = 0\n",
    "\n",
    "  for row in json_results:\n",
    "     if count == 0:\n",
    "\n",
    "        #writing headers of csv file\n",
    "        header = row.keys()\n",
    "        csv_writer.writerow(header)\n",
    "        count += 1\n",
    "        \n",
    "        # writing data of CSV file\n",
    "        csv_writer.writerow(row.values())\n",
    "\n",
    "  total_observations = json_occurences['total_results']\n",
    "\n",
    "  print(\"Yay! Your search worked. It found \" + str(total_observations) + \n",
    "        \" observations for \" + str(taxa) + \n",
    "        \". There is now a json file with all the taxon specifc data on iNaturalist called 'taxon_info.json', and a json file with the occurence records called 'observations.json' in this folder. There is also a csv called 'occurences_file.csv' made from the json file in this folder :).\")"
   ]
  },
  {
   "cell_type": "code",
   "execution_count": null,
   "metadata": {},
   "outputs": [],
   "source": []
  }
 ],
 "metadata": {
  "kernelspec": {
   "display_name": "Python 3.8 (basic)",
   "language": "python",
   "name": "python3"
  },
  "language_info": {
   "codemirror_mode": {
    "name": "ipython",
    "version": 3
   },
   "file_extension": ".py",
   "mimetype": "text/x-python",
   "name": "python",
   "nbconvert_exporter": "python",
   "pygments_lexer": "ipython3",
   "version": "3.8.1"
  }
 },
 "nbformat": 4,
 "nbformat_minor": 4
}
